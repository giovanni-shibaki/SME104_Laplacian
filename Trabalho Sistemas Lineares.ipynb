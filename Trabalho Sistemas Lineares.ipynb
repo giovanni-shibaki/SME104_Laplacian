{
 "cells": [
  {
   "cell_type": "markdown",
   "id": "5f5b2190",
   "metadata": {},
   "source": [
    "## <font color='blue'>SME0104 - Cálculo Numérico</font>\n",
    "\n",
    "### Primeiro Trabalho em Grupo \n",
    "#### Comparação de Métodos na Solução do Laplaciano em Grafos para propagação de informação\n",
    "\n",
    "**Luis Gustavo Nonato**\n",
    "\n",
    "------"
   ]
  },
  {
   "cell_type": "markdown",
   "source": [
    "- Felipe Cadavez Oliveira\n",
    "  - 11208558\n",
    "- Giovanni Shibaki Camargo\n",
    "  - 11796444\n",
    "- João Victor Sene Araujo\n",
    "  - 11796382\n",
    "- Lucas Keiti Anbo Mihara\n",
    "  - 11796472"
   ],
   "metadata": {
    "collapsed": false
   }
  },
  {
   "cell_type": "markdown",
   "id": "7d14420b",
   "metadata": {},
   "source": [
    "Considere os arquivos `manh.el` e `manh.xy` que fornecem as arestas e as coordenadas dos vértices do grafo de ruas da ilha de Manhattan, NY (arquivos disponíveis para download no Google Drive).\n",
    "\n",
    "O grafo de ruas possui diversas componentes conexas, considerando somente a maior componente conexa, você deve realizar as seguintes tarefas:\n",
    "1. Selecione alguns vértices do grafo $v_{i_1},v_{i_2},\\ldots,v_{i_k},\\, k<<n$ ($n$ é o número de vértices na maior componente do grafo e $k$ é um número bem menor que $n$, $k=10$ por exemplo) e atribua valores distindos $c_{i_1},c_{i_2},\\ldots,c_{i_k}$ a cada um dos vértices selecionados (por exemplo valores no intervalo (0,10]);\n",
    "2. Construa a matriz Laplaciana $L$ do grafo de ruas;\n",
    "3. Construa a matriz de penalidades $P$, sendo $P$ é uma matriz diagonal onde a entrada $P_{jj}=\\alpha$ se $j$ corresponde ao índice de algum dos vértices escolhidos no item 1 acima ($\\alpha=1.0e7$ por exemplo), sendo $P_{ii}=0$ caso contrário.\n",
    "4. Construa um vetor $b$ da seguinte forma:\n",
    "$$\n",
    "b_{j} = \\left\\{\\begin{matrix} c_{i_s} & \\mbox{ se } j = i_s \\\\ 0 & \\mbox{ caso contrário}\\end{matrix}\\right.\n",
    "$$\n",
    "5. Compare o tempo de solução do sistema\n",
    "$$\n",
    "(L+P)x = Pb\n",
    "$$\n",
    "para os métodos:\n",
    "    - Decomposição LU\n",
    "    - Cholesky\n",
    "    - Jacobi e Gaus-Seidel\n",
    "    - Gradientes Conjugados\n",
    "    \n",
    "6. Refaça as tarefas com representação por matriz esparsa e matrizes cheias, comparando os resultados."
   ]
  },
  {
   "cell_type": "code",
   "execution_count": 64,
   "id": "c1911002",
   "metadata": {},
   "outputs": [],
   "source": [
    "# Bibliotecas Usadas\n",
    "import numpy as np\n",
    "import networkx as nx\n",
    "import random\n",
    "import time\n",
    "import scipy\n",
    "import scipy.linalg\n",
    "import scipy.sparse.linalg\n",
    "import matplotlib.pyplot as plt"
   ]
  },
  {
   "cell_type": "code",
   "execution_count": 65,
   "id": "1315efb7",
   "metadata": {},
   "outputs": [
    {
     "name": "stdout",
     "output_type": "stream",
     "text": [
      "O grafo possui  8837 vértices\n"
     ]
    }
   ],
   "source": [
    "# Leitura dos arquivos manh.el e manh.xy\n",
    "# E criação do grafo\n",
    "\n",
    "# Leitura do arquivo manh.el para a criação da matriz de adjacencia\n",
    "file1 = open('manh.el', 'r')\n",
    "Lines = file1.readlines()\n",
    "\n",
    "# Criação do grafo direcionado\n",
    "Graph = nx.Graph();\n",
    "\n",
    "max = 0\n",
    "for line in Lines:\n",
    "    values = line.split()\n",
    "    x, y = values[0], values[1]\n",
    "    if(int(x) > max):\n",
    "        max = int(x)\n",
    "    if(int(y) > max):\n",
    "        max = int(y)\n",
    "\n",
    "numNodes = max + 1\n",
    "print(\"O grafo possui \",numNodes,\"vértices\")\n",
    "\n",
    "for i in range(numNodes):\n",
    "    Graph.add_node(i)\n",
    "\n",
    "for line in Lines:\n",
    "    values = line.split()\n",
    "    x, y = values[0], values[1]\n",
    "    Graph.add_edge(int(x), int(y))\n",
    "    Graph.add_edge(int(y), int(x))\n",
    "\n",
    "#Graph2 = Graph.subgraph(range(50))\n",
    "# Plotando o grafo correspondente\n",
    "#plt.figure(1, figsize=(200,200))\n",
    "#nx.draw(Graph2, pos=nx.circular_layout(Graph2), with_labels=True)"
   ]
  },
  {
   "cell_type": "code",
   "execution_count": 66,
   "outputs": [],
   "source": [
    "# Leitura do arquivo manh.XY para as coordenadas dos pontos\n",
    "count = 0\n",
    "file2 = open('manh.xy', 'r')\n",
    "Lines2 = file2.readlines()\n",
    "\n",
    "for line in Lines2:\n",
    "    values = line.split()\n",
    "    x, y = values[0], values[1]\n",
    "\n",
    "    count += 1"
   ],
   "metadata": {
    "collapsed": false,
    "pycharm": {
     "name": "#%%\n"
    }
   }
  },
  {
   "cell_type": "markdown",
   "source": [
    "G2 = G.subgraph(max(nx.strongly_connected_components(G), key=len))"
   ],
   "metadata": {
    "collapsed": false,
    "pycharm": {
     "name": "#%% md\n"
    }
   }
  },
  {
   "cell_type": "code",
   "execution_count": 67,
   "outputs": [
    {
     "name": "stdout",
     "output_type": "stream",
     "text": [
      "Graph with 8708 nodes and 13556 edges\n",
      "True\n",
      "Graph with 123 nodes and 154 edges\n",
      "True\n",
      "Graph with 2 nodes and 1 edges\n",
      "True\n",
      "Graph with 2 nodes and 1 edges\n",
      "True\n",
      "Graph with 2 nodes and 1 edges\n",
      "True\n",
      "\n",
      " Graph with 8708 nodes and 13556 edges\n"
     ]
    }
   ],
   "source": [
    "stronglyConnectedComponents = [Graph.subgraph(c).copy() for c in nx.connected_components(Graph)]\n",
    "\n",
    "for item in stronglyConnectedComponents:\n",
    "    print(item)\n",
    "    print(nx.is_connected(item))\n",
    "\n",
    "maximum = 0\n",
    "for item in stronglyConnectedComponents:\n",
    "    if item.number_of_nodes() > maximum:\n",
    "        Graph2 = item\n",
    "        maximum = item.number_of_nodes()\n",
    "\n",
    "print(\"\\n\",Graph2)"
   ],
   "metadata": {
    "collapsed": false,
    "pycharm": {
     "name": "#%%\n"
    }
   }
  },
  {
   "cell_type": "markdown",
   "source": [
    "## Matriz de Laplace a partir matriz de Adjacencia e a matriz diagonal com os graus de cada vértice"
   ],
   "metadata": {
    "collapsed": false
   }
  },
  {
   "cell_type": "code",
   "execution_count": 68,
   "outputs": [
    {
     "name": "stderr",
     "output_type": "stream",
     "text": [
      "C:\\Users\\giova\\AppData\\Local\\Temp\\ipykernel_13380\\3566922698.py:3: FutureWarning: adjacency_matrix will return a scipy.sparse array instead of a matrix in Networkx 3.0.\n",
      "  laplaceMatrix = nx.adjacency_matrix(Graph2)\n"
     ]
    },
    {
     "name": "stdout",
     "output_type": "stream",
     "text": [
      "Matriz de adjacencia\n",
      "[[0. 0. 0. ... 0. 0. 0.]\n",
      " [0. 0. 0. ... 0. 0. 0.]\n",
      " [0. 0. 0. ... 0. 0. 0.]\n",
      " ...\n",
      " [0. 0. 0. ... 0. 0. 0.]\n",
      " [0. 0. 0. ... 0. 0. 0.]\n",
      " [0. 0. 0. ... 0. 0. 0.]]\n",
      "\n",
      "\n",
      "Matriz diagonal com os graus dos vértices\n",
      "[[3. 0. 0. ... 0. 0. 0.]\n",
      " [0. 2. 0. ... 0. 0. 0.]\n",
      " [0. 0. 2. ... 0. 0. 0.]\n",
      " ...\n",
      " [0. 0. 0. ... 3. 0. 0.]\n",
      " [0. 0. 0. ... 0. 2. 0.]\n",
      " [0. 0. 0. ... 0. 0. 1.]]\n",
      "\n"
     ]
    }
   ],
   "source": [
    "# Matriz de laplace\n",
    "\n",
    "laplaceMatrix = nx.adjacency_matrix(Graph2)\n",
    "\n",
    "# Matriz de adjacência\n",
    "print(\"Matriz de adjacencia\")\n",
    "MA = nx.to_numpy_array(Graph2)\n",
    "print(MA)\n",
    "\n",
    "print()\n",
    "\n",
    "# Matriz diagonal com os graus de cada vértice\n",
    "MD = np.diag(np.sum(MA,axis=1))\n",
    "\n",
    "print()\n",
    "print(\"Matriz diagonal com os graus dos vértices\")\n",
    "print(MD)\n",
    "print()"
   ],
   "metadata": {
    "collapsed": false,
    "pycharm": {
     "name": "#%%\n"
    }
   }
  },
  {
   "cell_type": "code",
   "execution_count": 69,
   "outputs": [
    {
     "name": "stdout",
     "output_type": "stream",
     "text": [
      "Matriz de Laplace calculada a partir das matrizes diagonal de grau e matriz de adjacencia:\n",
      "[[3. 0. 0. ... 0. 0. 0.]\n",
      " [0. 2. 0. ... 0. 0. 0.]\n",
      " [0. 0. 2. ... 0. 0. 0.]\n",
      " ...\n",
      " [0. 0. 0. ... 3. 0. 0.]\n",
      " [0. 0. 0. ... 0. 2. 0.]\n",
      " [0. 0. 0. ... 0. 0. 1.]]\n",
      "\n",
      "27112\n"
     ]
    }
   ],
   "source": [
    "# Matriz de Laplace calculada\n",
    "LA = MD - MA\n",
    "print(\"Matriz de Laplace calculada a partir das matrizes diagonal de grau e matriz de adjacencia:\")\n",
    "print(LA)\n",
    "print()\n",
    "\n",
    "count = 0\n",
    "for item in LA:\n",
    "    for item2 in item:\n",
    "        if(item2 == -1):\n",
    "            count += 1\n",
    "print(count)"
   ],
   "metadata": {
    "collapsed": false,
    "pycharm": {
     "name": "#%%\n"
    }
   }
  },
  {
   "cell_type": "markdown",
   "source": [
    "## Matriz de penalidades"
   ],
   "metadata": {
    "collapsed": false,
    "pycharm": {
     "name": "#%% md\n"
    }
   }
  },
  {
   "cell_type": "code",
   "execution_count": 135,
   "outputs": [
    {
     "name": "stdout",
     "output_type": "stream",
     "text": [
      "7667 =  1.655184601971259\n",
      "1570 =  4.668483969074958\n",
      "1037 =  7.275444310204774\n",
      "5712 =  0.5330411816515945\n",
      "1363 =  6.847097261975124\n",
      "6794 =  7.059945413464628\n",
      "2278 =  6.425136821335814\n",
      "7118 =  9.350553895307804\n",
      "6070 =  2.047081240008668\n",
      "3663 =  5.01589301217415\n",
      "3100 =  5.360820610802469\n",
      "818 =  8.431046082495078\n",
      "1471 =  9.031105821438958\n",
      "6388 =  7.173454066038969\n",
      "7748 =  7.467010153490429\n",
      "2964 =  7.781700111464933\n",
      "6673 =  7.042613615326361\n",
      "5695 =  2.6513589998016673\n",
      "461 =  1.2131526277753457\n",
      "5161 =  2.6218367746927096\n"
     ]
    }
   ],
   "source": [
    "# escolhendo eleatóriamente os pontos com valores dados\n",
    "pMatrix = np.zeros([8708, 8708])\n",
    "\n",
    "b = np.zeros([8708])\n",
    "\n",
    "# Foram escolhidos 20 valores dados\n",
    "for i in range(20):\n",
    "    lineColumn = random.randint(0, 8707)\n",
    "    pMatrix[lineColumn, lineColumn] = 1e7\n",
    "    value = random.random() * 10\n",
    "    b[lineColumn] = value\n",
    "    print(lineColumn, \"= \", value)\n"
   ],
   "metadata": {
    "collapsed": false,
    "pycharm": {
     "name": "#%%\n"
    }
   }
  },
  {
   "cell_type": "markdown",
   "source": [
    "## Comparação do tempo de resolução do sistema"
   ],
   "metadata": {
    "collapsed": false
   }
  },
  {
   "cell_type": "markdown",
   "source": [
    "### Decomposição LU"
   ],
   "metadata": {
    "collapsed": false
   }
  },
  {
   "cell_type": "code",
   "execution_count": 149,
   "outputs": [
    {
     "name": "stdout",
     "output_type": "stream",
     "text": [
      "[6.50097081 2.98387991 6.15642404 ... 3.81346365 6.26226841 6.79201452]\n",
      "Solucionar o sistema por meio da decomposição LU tomou:  3.4601645469665527 segundos\n",
      "É solução do sistema com tolerância 1e-7? \n",
      " True\n"
     ]
    }
   ],
   "source": [
    "# Decomposição LU\n",
    "start_time = time.time()\n",
    "\n",
    "A = (LA + pMatrix)\n",
    "B = b @ pMatrix\n",
    "\n",
    "lu, piv = scipy.linalg.lu_factor(A)\n",
    "x = scipy.linalg.lu_solve((lu, piv), B)\n",
    "print(x)\n",
    "\n",
    "print(\"Solucionar o sistema por meio da decomposição LU tomou: \",time.time() - start_time,\"segundos\")\n",
    "print(\"É solução do sistema com tolerância 1e-7? \\n\",np.allclose(A @ x - B, np.zeros((8708,)), rtol=1e-7, atol=1e-7))"
   ],
   "metadata": {
    "collapsed": false,
    "pycharm": {
     "name": "#%%\n"
    }
   }
  },
  {
   "cell_type": "markdown",
   "source": [
    "### Cholesky"
   ],
   "metadata": {
    "collapsed": false
   }
  },
  {
   "cell_type": "code",
   "execution_count": 156,
   "outputs": [
    {
     "name": "stdout",
     "output_type": "stream",
     "text": [
      "[6.50097081 2.98387991 6.15642404 ... 3.81346365 6.26226841 6.79201452]\n",
      "Solucionar o sistema por meio do método de Cholesky tomou:  2.6570887565612793 segundos\n",
      "É solução do sistema com tolerância 1e-7? \n",
      " True\n"
     ]
    }
   ],
   "source": [
    "# Cholesky\n",
    "start_time = time.time()\n",
    "\n",
    "A = (LA + pMatrix)\n",
    "B = b @ pMatrix\n",
    "\n",
    "cho, low = scipy.linalg.cho_factor(A)\n",
    "x = scipy.linalg.cho_solve((cho, low), B)\n",
    "print(x)\n",
    "\n",
    "print(\"Solucionar o sistema por meio do método de Cholesky tomou: \",time.time() - start_time,\"segundos\")\n",
    "print(\"É solução do sistema com tolerância 1e-7? \\n\",np.allclose(A @ x - B, np.zeros((8708,)), rtol=1e-7, atol=1e-7))"
   ],
   "metadata": {
    "collapsed": false,
    "pycharm": {
     "name": "#%%\n"
    }
   }
  },
  {
   "cell_type": "markdown",
   "source": [
    "### Gauss-Jacobi"
   ],
   "metadata": {
    "collapsed": false
   }
  },
  {
   "cell_type": "code",
   "execution_count": 53,
   "outputs": [
    {
     "name": "stdout",
     "output_type": "stream",
     "text": [
      "O método de Jacobi NÃO PODE ser empregado para resolver o sistema linear pois não passa pelo critério das Linhas e das Colunas\n"
     ]
    }
   ],
   "source": [
    "# Gauss-Jacobi\n",
    "A = (LA + pMatrix)\n",
    "B = b @ pMatrix\n",
    "\n",
    "n = A.shape[0]\n",
    "def crit_linhas(n):\n",
    "    condicao = True\n",
    "    alpha_k = 0\n",
    "    for k in range(n):\n",
    "        sum = 0\n",
    "        for j in range(n):\n",
    "            if(j != k):\n",
    "                sum += np.abs(A[k,j])\n",
    "        alpha_k = sum / np.abs(A[k, k])\n",
    "        if(alpha_k >= 1): # Se algum dos valores de alpha_k for maior ou igual a 1, o critério das linhas não é satisfeito\n",
    "            condicao = False\n",
    "    return condicao\n",
    "\n",
    "def crit_colunas(n):\n",
    "    condicao = True\n",
    "    alpha_k = 0\n",
    "    for k in range(n):\n",
    "        sum = 0\n",
    "        for i in range(n):\n",
    "            if(i != k):\n",
    "                sum += np.abs(A[i,k])\n",
    "        alpha_k = sum / np.abs(A[k, k])\n",
    "        if(alpha_k >= 1): # Se algum dos valores de alpha_k for maior ou igual a 1, o critério das linhas não é satisfeito\n",
    "            condicao = False\n",
    "    return condicao\n",
    "\n",
    "if (crit_linhas(n) and crit_colunas(n)):\n",
    "    print(\"O método de Jacobi PODE ser empregado para resolver o sistema linear.\")\n",
    "else:\n",
    "    print(\"O método de Jacobi NÃO PODE ser empregado para resolver o sistema linear pois não passa pelo critério das Linhas e das Colunas.\")"
   ],
   "metadata": {
    "collapsed": false,
    "pycharm": {
     "name": "#%%\n"
    }
   }
  },
  {
   "cell_type": "markdown",
   "source": [
    "### Gauss-Seidel"
   ],
   "metadata": {
    "collapsed": false
   }
  },
  {
   "cell_type": "code",
   "execution_count": 54,
   "outputs": [
    {
     "name": "stdout",
     "output_type": "stream",
     "text": [
      "O método de Gauss-Seidel NÃO PODE ser empregado para resolver o sistema linear pois não passa pelo critério de Sassenfeld.\n"
     ]
    }
   ],
   "source": [
    "# Gauss-Seidel\n",
    "A = (LA + pMatrix)\n",
    "B = b @ pMatrix\n",
    "\n",
    "# O método de Gauss-Seidel converge para a solução Ax = b, independentemente da escolha de x^(0), se satisfazer o critério de Sassenfeld:\n",
    "# MAX(beta) < 1\n",
    "\n",
    "n = A.shape[0]\n",
    "def crit_sassenfeld(n):\n",
    "    condicao = True\n",
    "    # Calculando beta_0:\n",
    "    betas = np.zeros(n)\n",
    "    num_elements = 0\n",
    "    sum1 = 0\n",
    "    for j in range(1,n):\n",
    "        sum1 += np.abs(A[1,j])\n",
    "    sum1 = sum1 / np.abs(A[1,1])\n",
    "    betas[num_elements] = sum1\n",
    "    num_elements += 1\n",
    "\n",
    "    # Calculando os demais beta\n",
    "    sum2 = 0\n",
    "    for i in range(1,n):\n",
    "        for j in range(i):\n",
    "            sum2 += np.abs(A[i,j])*betas[j]\n",
    "        for j in range(i+1,n):\n",
    "            sum2 += np.abs(A[i,j])\n",
    "        sum2 = sum2 / np.abs(A[i,i])\n",
    "        betas[num_elements] = sum2\n",
    "        num_elements += 1\n",
    "\n",
    "    # Checar se o valor máximo dos valores de beta não é maior ou igual a 1\n",
    "    max = np.max(betas)\n",
    "    if(max >= 1):\n",
    "        condicao = False\n",
    "    return condicao\n",
    "\n",
    "if (crit_sassenfeld(n)):\n",
    "    print(\"O método de Gauss-Seidel PODE ser empregado para resolver o sistema linear.\")\n",
    "else:\n",
    "    print(\"O método de Gauss-Seidel NÃO PODE ser empregado para resolver o sistema linear pois não passa pelo critério de Sassenfeld.\")"
   ],
   "metadata": {
    "collapsed": false,
    "pycharm": {
     "name": "#%%\n"
    }
   }
  },
  {
   "cell_type": "code",
   "execution_count": null,
   "outputs": [],
   "source": [],
   "metadata": {
    "collapsed": false,
    "pycharm": {
     "name": "#%%\n"
    }
   }
  },
  {
   "cell_type": "code",
   "execution_count": null,
   "outputs": [],
   "source": [
    "# # linalg.norm() não conseguia calcular sqrt() pois os valores eram do tipo Float\n",
    "# def gauss_seidel(A, n, b, x0, tol):\n",
    "#     L = np.tril(A)\n",
    "#     R = np.triu(A, 1)\n",
    "#     C = -scipy.linalg.solve(L, R)\n",
    "#     g = scipy.linalg.solve(L, b)\n",
    "#     kmax = 10000\n",
    "#     k = 0\n",
    "#     while(normcalc((b - np.dot(A, x0)), x0.size) > tol and k < kmax):\n",
    "#         k = k + 1\n",
    "#         x0 = np.dot(C, x0) + g\n",
    "#     if(k == kmax):\n",
    "#         print(\"ERRO: O método não converge!\")\n",
    "#         exit()\n",
    "#     x = x0\n",
    "#     return x, k\n",
    "# def normcalc(x, n):\n",
    "#     result = 0\n",
    "#     for i in range(n):\n",
    "#         result += float(x[0])**2\n",
    "#     result = np.sqrt(result)\n",
    "#     return result\n",
    "#\n",
    "# def gauss_seidel2(a, x ,b):\n",
    "#     #Finding length of a(3)\n",
    "#     n = len(a)\n",
    "#     # for loop for 3 times as to calculate x, y , z\n",
    "#     for j in range(0, n):\n",
    "#         # temp variable d to store b[j]\n",
    "#         d = b[j]\n",
    "#\n",
    "#         # to calculate respective xi, yi, zi\n",
    "#         for i in range(0, n):\n",
    "#             if(j != i):\n",
    "#                 d-=a[j][i] * x[i]\n",
    "#         # updating the value of our solution\n",
    "#         x[j] = d / a[j][j]\n",
    "#     # returning our updated solution\n",
    "#     return x\n",
    "#\n",
    "# start_time = time.time()\n",
    "#\n",
    "# # Chute inicial\n",
    "# x = np.ones([8708])\n",
    "# #for i in range(0, 4):\n",
    "#     #x, k = gauss_seidel(A, 8708, B, x, 1e-7)\n",
    "#     #x = gauss_seidel2(A, x0, B)\n",
    "# print(x)\n",
    "#\n",
    "# print(\"Solucionar o sistema por meio do método de Cholesky tomou: \",time.time() - start_time,\"segundos\")\n",
    "# print(\"É solução do sistema com tolerância 1e-7? \\n\",np.allclose(A @ x - B, np.zeros((8708,)), rtol=1e-7, atol=1e-7))"
   ],
   "metadata": {
    "collapsed": false,
    "pycharm": {
     "name": "#%%\n"
    }
   }
  },
  {
   "cell_type": "markdown",
   "source": [],
   "metadata": {
    "collapsed": false
   }
  },
  {
   "cell_type": "code",
   "execution_count": 61,
   "outputs": [
    {
     "name": "stdout",
     "output_type": "stream",
     "text": [
      "O método de Gradientes Conjugados PODE ser empregado para resolver o sistema linear\n"
     ]
    }
   ],
   "source": [
    "# No método dos gradientes conjugados a única condição necessária é que a matrix A seja SPD\n",
    "A = (LA + pMatrix)\n",
    "B = b @ pMatrix\n",
    "\n",
    "if (np.all(np.linalg.eigvals(A) > 0)):\n",
    "    print(\"O método de Gradientes Conjugados PODE ser empregado para resolver o sistema linear\")\n",
    "else:\n",
    "    print(\"O método de Gradientes Conjugados NÃO PODE ser empregado para resolver o sistema linear\")"
   ],
   "metadata": {
    "collapsed": false,
    "pycharm": {
     "name": "#%%\n"
    }
   }
  },
  {
   "cell_type": "code",
   "execution_count": 165,
   "outputs": [
    {
     "name": "stdout",
     "output_type": "stream",
     "text": [
      "O método converge com a solução: \n",
      "[6.50097088 2.98387991 6.15642416 ... 3.81346365 6.26226842 6.79201446]\n",
      "Solucionar o sistema por meio do método de Gradientes Conjugados tomou:  21.03818988800049 segundos\n",
      "É solução do sistema com tolerância 1e-7? \n",
      " True\n"
     ]
    }
   ],
   "source": [
    "# Gradientes Conjugados\n",
    "A = (LA + pMatrix)\n",
    "B = b @ pMatrix\n",
    "\n",
    "start_time = time.time()\n",
    "\n",
    "x, info = scipy.sparse.linalg.cg(A, B, tol=1e-15, maxiter=1000000)\n",
    "if(info == 0):\n",
    "    print(\"O método converge com a solução: \")\n",
    "    print(x)\n",
    "else:\n",
    "    print(\"O método não converge!\")\n",
    "\n",
    "print(\"Solucionar o sistema por meio do método de Gradientes Conjugados tomou: \",time.time() - start_time,\"segundos\")\n",
    "print(\"É solução do sistema com tolerância 1e-7? \\n\",np.allclose(A @ x - B, np.zeros((8708,)), rtol=1e-7, atol=1e-7))"
   ],
   "metadata": {
    "collapsed": false,
    "pycharm": {
     "name": "#%%\n"
    }
   }
  },
  {
   "cell_type": "markdown",
   "source": [
    "## Representação por matriz esparsa"
   ],
   "metadata": {
    "collapsed": false
   }
  },
  {
   "cell_type": "code",
   "execution_count": 141,
   "outputs": [
    {
     "name": "stdout",
     "output_type": "stream",
     "text": [
      "[6.50097081 2.98387991 6.15642404 ... 3.81346365 6.26226841 6.79201452]\n",
      "1:  0.01739192008972168 segundos\n",
      "[6.50097081 2.98387991 6.15642404 ... 3.81346365 6.26226841 6.79201452]\n",
      "2:  4.306354761123657 segundos\n"
     ]
    }
   ],
   "source": [
    "A = (LA + pMatrix)\n",
    "B = b @ pMatrix\n",
    "\n",
    "# Matriz esparsa de A\n",
    "S = scipy.sparse.csc_matrix(A)\n",
    "\n",
    "start_time = time.time()\n",
    "print(scipy.sparse.linalg.spsolve(S,B))\n",
    "print(\"1: \",time.time() - start_time,\"segundos\")\n",
    "\n",
    "start_time = time.time()\n",
    "print(scipy.linalg.solve(A,B))\n",
    "print(\"2: \",time.time() - start_time,\"segundos\")"
   ],
   "metadata": {
    "collapsed": false,
    "pycharm": {
     "name": "#%%\n"
    }
   }
  },
  {
   "cell_type": "markdown",
   "source": [
    "### Decomposição LU"
   ],
   "metadata": {
    "collapsed": false
   }
  },
  {
   "cell_type": "code",
   "execution_count": 163,
   "outputs": [
    {
     "name": "stdout",
     "output_type": "stream",
     "text": [
      "[6.50097081 2.98387991 6.15642404 ... 3.81346365 6.26226841 6.79201452]\n",
      "Solucionar o sistema por meio da decomposição LU tomou:  0.18702292442321777 segundos\n",
      "É solução do sistema com tolerância 1e-7? \n",
      " True\n"
     ]
    }
   ],
   "source": [
    "# Decomposição LU\n",
    "start_time = time.time()\n",
    "\n",
    "A = (LA + pMatrix)\n",
    "B = b @ pMatrix\n",
    "\n",
    "lu = scipy.sparse.linalg.splu(S)\n",
    "x = lu.solve(B)\n",
    "print(x)\n",
    "\n",
    "print(\"Solucionar o sistema por meio da decomposição LU tomou: \",time.time() - start_time,\"segundos\")\n",
    "print(\"É solução do sistema com tolerância 1e-7? \\n\",np.allclose(A @ x - B, np.zeros((8708,)), rtol=1e-7, atol=1e-7))"
   ],
   "metadata": {
    "collapsed": false,
    "pycharm": {
     "name": "#%%\n"
    }
   }
  },
  {
   "cell_type": "markdown",
   "source": [
    "### Cholesky"
   ],
   "metadata": {
    "collapsed": false
   }
  },
  {
   "cell_type": "code",
   "execution_count": 161,
   "outputs": [
    {
     "ename": "AttributeError",
     "evalue": "solve not found",
     "output_type": "error",
     "traceback": [
      "\u001B[1;31m---------------------------------------------------------------------------\u001B[0m",
      "\u001B[1;31mAttributeError\u001B[0m                            Traceback (most recent call last)",
      "Input \u001B[1;32mIn [161]\u001B[0m, in \u001B[0;36m<cell line: 13>\u001B[1;34m()\u001B[0m\n\u001B[0;32m     10\u001B[0m   \u001B[38;5;28;01mreturn\u001B[39;00m LU\u001B[38;5;241m.\u001B[39mL\u001B[38;5;241m.\u001B[39mdot(scipy\u001B[38;5;241m.\u001B[39msparse\u001B[38;5;241m.\u001B[39mdiags(LU\u001B[38;5;241m.\u001B[39mU\u001B[38;5;241m.\u001B[39mdiagonal()\u001B[38;5;241m*\u001B[39m\u001B[38;5;241m*\u001B[39m\u001B[38;5;241m0.5\u001B[39m))\n\u001B[0;32m     12\u001B[0m cho \u001B[38;5;241m=\u001B[39m sparse_cholesky(A)\n\u001B[1;32m---> 13\u001B[0m x \u001B[38;5;241m=\u001B[39m \u001B[43mcho\u001B[49m\u001B[38;5;241;43m.\u001B[39;49m\u001B[43msolve\u001B[49m(B)\n\u001B[0;32m     14\u001B[0m \u001B[38;5;28mprint\u001B[39m(x)\n\u001B[0;32m     16\u001B[0m \u001B[38;5;28mprint\u001B[39m(\u001B[38;5;124m\"\u001B[39m\u001B[38;5;124mSolucionar o sistema por meio do método de Cholesky tomou: \u001B[39m\u001B[38;5;124m\"\u001B[39m,time\u001B[38;5;241m.\u001B[39mtime() \u001B[38;5;241m-\u001B[39m start_time,\u001B[38;5;124m\"\u001B[39m\u001B[38;5;124msegundos\u001B[39m\u001B[38;5;124m\"\u001B[39m)\n",
      "File \u001B[1;32m~\\AppData\\Roaming\\Python\\Python310\\site-packages\\scipy\\sparse\\_base.py:761\u001B[0m, in \u001B[0;36mspmatrix.__getattr__\u001B[1;34m(self, attr)\u001B[0m\n\u001B[0;32m    759\u001B[0m     \u001B[38;5;28;01mreturn\u001B[39;00m \u001B[38;5;28mself\u001B[39m\u001B[38;5;241m.\u001B[39mgetnnz()\n\u001B[0;32m    760\u001B[0m \u001B[38;5;28;01melse\u001B[39;00m:\n\u001B[1;32m--> 761\u001B[0m     \u001B[38;5;28;01mraise\u001B[39;00m \u001B[38;5;167;01mAttributeError\u001B[39;00m(attr \u001B[38;5;241m+\u001B[39m \u001B[38;5;124m\"\u001B[39m\u001B[38;5;124m not found\u001B[39m\u001B[38;5;124m\"\u001B[39m)\n",
      "\u001B[1;31mAttributeError\u001B[0m: solve not found"
     ]
    }
   ],
   "source": [
    "# Cholesky\n",
    "start_time = time.time()\n",
    "\n",
    "A = (LA + pMatrix)\n",
    "B = b @ pMatrix\n",
    "\n",
    "def sparse_cholesky(A): # The input matrix A must be a sparse symmetric positive-definite.\n",
    "  n = A.shape[0]\n",
    "  LU = scipy.sparse.linalg.splu(A,diag_pivot_thresh=0) # sparse LU decomposition\n",
    "  return LU.L.dot(scipy.sparse.diags(LU.U.diagonal()**0.5))\n",
    "\n",
    "cho = sparse_cholesky(A)\n",
    "x = cho.solve(B)\n",
    "print(x)\n",
    "\n",
    "print(\"Solucionar o sistema por meio do método de Cholesky tomou: \",time.time() - start_time,\"segundos\")\n",
    "print(\"É solução do sistema com tolerância 1e-7? \\n\",np.allclose(A @ x - B, np.zeros((8708,)), rtol=1e-7, atol=1e-7))"
   ],
   "metadata": {
    "collapsed": false,
    "pycharm": {
     "name": "#%%\n"
    }
   }
  },
  {
   "cell_type": "markdown",
   "source": [
    "### Gradientes Conjugados"
   ],
   "metadata": {
    "collapsed": false
   }
  },
  {
   "cell_type": "code",
   "execution_count": 164,
   "outputs": [
    {
     "name": "stdout",
     "output_type": "stream",
     "text": [
      "O método converge com a solução: \n",
      "[6.50097087 2.98387991 6.15642416 ... 3.81346365 6.26226841 6.79201445]\n",
      "Solucionar o sistema por meio do método de Gradientes Conjugados tomou:  0.11901402473449707 segundos\n",
      "É solução do sistema com tolerância 1e-7? \n",
      " True\n"
     ]
    }
   ],
   "source": [
    "# Gradientes Conjugados\n",
    "B = b @ pMatrix\n",
    "\n",
    "start_time = time.time()\n",
    "\n",
    "x, info = scipy.sparse.linalg.cg(S, B, tol=1e-15, maxiter=1000000)\n",
    "if(info == 0):\n",
    "    print(\"O método converge com a solução: \")\n",
    "    print(x)\n",
    "else:\n",
    "    print(\"O método não converge!\")\n",
    "\n",
    "print(\"Solucionar o sistema por meio do método de Gradientes Conjugados tomou: \",time.time() - start_time,\"segundos\")\n",
    "print(\"É solução do sistema com tolerância 1e-7? \\n\",np.allclose(A @ x - B, np.zeros((8708,)), rtol=1e-7, atol=1e-7))"
   ],
   "metadata": {
    "collapsed": false,
    "pycharm": {
     "name": "#%%\n"
    }
   }
  }
 ],
 "metadata": {
  "interpreter": {
   "hash": "26de051ba29f2982a8de78e945f0abaf191376122a1563185a90213a26c5da77"
  },
  "kernelspec": {
   "display_name": "Python 3.10.4 64-bit",
   "language": "python",
   "name": "python3"
  },
  "language_info": {
   "codemirror_mode": {
    "name": "ipython",
    "version": 3
   },
   "file_extension": ".py",
   "mimetype": "text/x-python",
   "name": "python",
   "nbconvert_exporter": "python",
   "pygments_lexer": "ipython3",
   "version": "3.10.4"
  }
 },
 "nbformat": 4,
 "nbformat_minor": 5
}